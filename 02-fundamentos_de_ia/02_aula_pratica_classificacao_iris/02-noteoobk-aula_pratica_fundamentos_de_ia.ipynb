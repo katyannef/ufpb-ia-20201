{
  "nbformat": 4,
  "nbformat_minor": 0,
  "metadata": {
    "colab": {
      "name": "Aula Prática Ao Vivo - Fundamentos de IA",
      "provenance": [],
      "collapsed_sections": []
    },
    "kernelspec": {
      "name": "python3",
      "display_name": "Python 3"
    }
  },
  "cells": [
    {
      "cell_type": "markdown",
      "metadata": {
        "id": "_i-DDRSeQbw2",
        "colab_type": "text"
      },
      "source": [
        "# Exemplo Prático: Workflow IA\n",
        "\n",
        "## Classificação de Flores Íris\n",
        "\n",
        "O objetivo nessa prática é apresentar o workflow básico pra criação de um modelo inteligente para solucionar um problema de classificação. Desta forma, vamos realizar, passo a passo, as quatro principais etapas do processo: Extração de atributos, Divisão dos dados, Treinamento do modelo e Avaliação do modelo."
      ]
    },
    {
      "cell_type": "markdown",
      "metadata": {
        "id": "_LSmGBe_7X7t",
        "colab_type": "text"
      },
      "source": [
        "<div>\n",
        "<img src=\"https://github.com/rafaelmm82/ufpb-ia-20201/raw/master/02-fundamentos_de_ia/aula_pratica_classificacao_iris/01_workflow_completo.jpg\", width=\"640\"/>\n",
        "<div/>"
      ]
    },
    {
      "cell_type": "markdown",
      "metadata": {
        "id": "LYvnD2lW_Ixh",
        "colab_type": "text"
      },
      "source": [
        "# 1) Extração de Atributos\n",
        "\n",
        "Carregando e entendendo o conjunto de dados\n",
        "\n",
        "<div>\n",
        "<br/>\n",
        "<img src=\"https://github.com/rafaelmm82/ufpb-ia-20201/raw/master/02-fundamentos_de_ia/aula_pratica_classificacao_iris/02_extracao_dados.jpg\", width=\"640\"/>\n",
        "</div>"
      ]
    },
    {
      "cell_type": "code",
      "metadata": {
        "id": "WZmXzDAMQUzi",
        "colab_type": "code",
        "colab": {
          "base_uri": "https://localhost:8080/",
          "height": 34
        },
        "outputId": "c97ed44d-3bd2-4067-d64f-702806d7eb87"
      },
      "source": [
        "# Carregar e entender os dados\n",
        "\n",
        "# biblioteca para carregar e realizar operações tabulares\n",
        "import pandas as pd\n",
        "\n",
        "# biblioteca para plotar gráficos\n",
        "import matplotlib.pyplot as plt\n",
        "\n",
        "# dataset, arquivo com as amostras das medições das flores\n",
        "arquivo = 'https://raw.githubusercontent.com/rafaelmm82/ufpb-ia-20201/master/02-fundamentos_de_ia/aula_pratica_classificacao_iris/iris.csv'\n",
        "\n",
        "# carregando o conteúdo do arquivo em um objeto pandas.DataFrame \n",
        "# a partir do método de carregamento de arquivo read_csv\n",
        "# especificando que a primeira linha contém os nomes do cabeçalho\n",
        "dataset = pd.read_csv(arquivo, header=0)\n",
        "\n",
        "# exibindo a dimensão dos dados carregados (linhas, colunas)\n",
        "print(dataset.shape)"
      ],
      "execution_count": 1,
      "outputs": [
        {
          "output_type": "stream",
          "text": [
            "(150, 5)\n"
          ],
          "name": "stdout"
        }
      ]
    },
    {
      "cell_type": "code",
      "metadata": {
        "id": "1am9UD_LdY_N",
        "colab_type": "code",
        "colab": {
          "base_uri": "https://localhost:8080/",
          "height": 399
        },
        "outputId": "18b0cfee-7822-41aa-9061-61b1121f344a"
      },
      "source": [
        "# exibindo as 10 primeiras linhas de valores contidos no dataset\n",
        "print(dataset.head(10))\n",
        "\n",
        "# exibindo os 10 últimas linhas de valores do dataset\n",
        "print(dataset.tail(10)) "
      ],
      "execution_count": 2,
      "outputs": [
        {
          "output_type": "stream",
          "text": [
            "   comp. sépala  larg. sépala  comp. pétala  larg. pétala  classe\n",
            "0           5.1           3.5           1.4           0.2  Setosa\n",
            "1           4.9           3.0           1.4           0.2  Setosa\n",
            "2           4.7           3.2           1.3           0.2  Setosa\n",
            "3           4.6           3.1           1.5           0.2  Setosa\n",
            "4           5.0           3.6           1.4           0.2  Setosa\n",
            "5           5.4           3.9           1.7           0.4  Setosa\n",
            "6           4.6           3.4           1.4           0.3  Setosa\n",
            "7           5.0           3.4           1.5           0.2  Setosa\n",
            "8           4.4           2.9           1.4           0.2  Setosa\n",
            "9           4.9           3.1           1.5           0.1  Setosa\n",
            "     comp. sépala  larg. sépala  comp. pétala  larg. pétala     classe\n",
            "140           6.7           3.1           5.6           2.4  Virginica\n",
            "141           6.9           3.1           5.1           2.3  Virginica\n",
            "142           5.8           2.7           5.1           1.9  Virginica\n",
            "143           6.8           3.2           5.9           2.3  Virginica\n",
            "144           6.7           3.3           5.7           2.5  Virginica\n",
            "145           6.7           3.0           5.2           2.3  Virginica\n",
            "146           6.3           2.5           5.0           1.9  Virginica\n",
            "147           6.5           3.0           5.2           2.0  Virginica\n",
            "148           6.2           3.4           5.4           2.3  Virginica\n",
            "149           5.9           3.0           5.1           1.8  Virginica\n"
          ],
          "name": "stdout"
        }
      ]
    },
    {
      "cell_type": "code",
      "metadata": {
        "id": "rZq_S4imUlXC",
        "colab_type": "code",
        "colab": {
          "base_uri": "https://localhost:8080/",
          "height": 121
        },
        "outputId": "36852dec-9c37-47a2-9abe-6c4d13648c52"
      },
      "source": [
        "# para acesssar uma linha aleatória\n",
        "print(dataset.iloc[80])"
      ],
      "execution_count": 3,
      "outputs": [
        {
          "output_type": "stream",
          "text": [
            "comp. sépala           5.5\n",
            "larg. sépala           2.4\n",
            "comp. pétala           3.8\n",
            "larg. pétala           1.1\n",
            "classe          Versicolor\n",
            "Name: 80, dtype: object\n"
          ],
          "name": "stdout"
        }
      ]
    },
    {
      "cell_type": "code",
      "metadata": {
        "id": "roxtBJYxVSLz",
        "colab_type": "code",
        "colab": {
          "base_uri": "https://localhost:8080/",
          "height": 104
        },
        "outputId": "ba7d3793-cb9b-4270-be7f-d58faab62360"
      },
      "source": [
        "# para saber a quantidade dados por classe\n",
        "print(dataset.groupby('classe').size())"
      ],
      "execution_count": 4,
      "outputs": [
        {
          "output_type": "stream",
          "text": [
            "classe\n",
            "Setosa        50\n",
            "Versicolor    50\n",
            "Virginica     50\n",
            "dtype: int64\n"
          ],
          "name": "stdout"
        }
      ]
    },
    {
      "cell_type": "code",
      "metadata": {
        "id": "S6GQqTYuU2t1",
        "colab_type": "code",
        "colab": {
          "base_uri": "https://localhost:8080/",
          "height": 173
        },
        "outputId": "c32cf28f-6fc6-4c21-a3c2-c2d5ffeee61c"
      },
      "source": [
        "# para obter um resumo estatístico dos dados\n",
        "print(dataset.describe())"
      ],
      "execution_count": 5,
      "outputs": [
        {
          "output_type": "stream",
          "text": [
            "       comp. sépala  larg. sépala  comp. pétala  larg. pétala\n",
            "count    150.000000    150.000000    150.000000    150.000000\n",
            "mean       5.843333      3.057333      3.758000      1.199333\n",
            "std        0.828066      0.435866      1.765298      0.762238\n",
            "min        4.300000      2.000000      1.000000      0.100000\n",
            "25%        5.100000      2.800000      1.600000      0.300000\n",
            "50%        5.800000      3.000000      4.350000      1.300000\n",
            "75%        6.400000      3.300000      5.100000      1.800000\n",
            "max        7.900000      4.400000      6.900000      2.500000\n"
          ],
          "name": "stdout"
        }
      ]
    },
    {
      "cell_type": "code",
      "metadata": {
        "id": "T_3DRvwuVpvN",
        "colab_type": "code",
        "colab": {
          "base_uri": "https://localhost:8080/",
          "height": 268
        },
        "outputId": "eb35e883-5c27-4be9-af31-09e86bae8420"
      },
      "source": [
        "# exibindo um gráfico do tipo 'boxplot' em um grid de 2x2 \n",
        "# com coordenadas independentes\n",
        "dataset.plot(kind='box', subplots=True, layout=(2,2), sharex=False, sharey=False)\n",
        "plt.show()"
      ],
      "execution_count": 6,
      "outputs": [
        {
          "output_type": "display_data",
          "data": {
            "image/png": "[encoded data removed]",
            "text/plain": [
              "<Figure size 432x288 with 4 Axes>"
            ]
          },
          "metadata": {
            "tags": [],
            "needs_background": "light"
          }
        }
      ]
    },
    {
      "cell_type": "code",
      "metadata": {
        "id": "DoZygaTeV4BY",
        "colab_type": "code",
        "colab": {
          "base_uri": "https://localhost:8080/",
          "height": 281
        },
        "outputId": "31534557-1735-4c61-deb2-664c01ae8e57"
      },
      "source": [
        "# exibindo um gráfico de histogramas para entender a distribuição dos mesmos\n",
        "dataset.hist()\n",
        "plt.show()"
      ],
      "execution_count": 7,
      "outputs": [
        {
          "output_type": "display_data",
          "data": {
            "image/png": "[encoded data removed]",
            "text/plain": [
              "<Figure size 432x288 with 4 Axes>"
            ]
          },
          "metadata": {
            "tags": [],
            "needs_background": "light"
          }
        }
      ]
    },
    {
      "cell_type": "code",
      "metadata": {
        "id": "8SzTTfmdXQL5",
        "colab_type": "code",
        "colab": {
          "base_uri": "https://localhost:8080/",
          "height": 289
        },
        "outputId": "3370793f-c06a-4bd9-a95c-8cc411192f3d"
      },
      "source": [
        "# gráfico tipo 'scatter plot' para verificar correlações entre as variáveis\n",
        "pd.plotting.scatter_matrix(dataset)\n",
        "plt.show()"
      ],
      "execution_count": 8,
      "outputs": [
        {
          "output_type": "display_data",
          "data": {
            "image/png": "[encoded data removed]",
            "text/plain": [
              "<Figure size 432x288 with 16 Axes>"
            ]
          },
          "metadata": {
            "tags": [],
            "needs_background": "light"
          }
        }
      ]
    },
    {
      "cell_type": "markdown",
      "metadata": {
        "id": "mNtAUereYFJ4",
        "colab_type": "text"
      },
      "source": [
        "# 2 - Divisão dos dados\n",
        "\n",
        "Criando dois conjuntos de dados para serem utilizados nas etapas seguintes, treinamento e avaliação.\n",
        "\n",
        "<div>\n",
        "<br/>\n",
        "<img src=\"https://github.com/rafaelmm82/ufpb-ia-20201/raw/master/02-fundamentos_de_ia/aula_pratica_classificacao_iris/03_divisao_dados.jpg\", width=\"640\"/>\n",
        "</div>"
      ]
    },
    {
      "cell_type": "code",
      "metadata": {
        "id": "C2aHMAn9fwjD",
        "colab_type": "code",
        "colab": {
          "base_uri": "https://localhost:8080/",
          "height": 173
        },
        "outputId": "67b5d6ad-a5c2-4860-e6cd-d2ee51709c34"
      },
      "source": [
        "# carregando uma função pertencente ao scikit-learn para realizar\n",
        "# automaticamente uma amostragem sem reposição aleatória e dividir\n",
        "# os dados em dois conjuntos\n",
        "from sklearn.model_selection import train_test_split\n",
        "\n",
        "# importante lembrar que as 4 primeiras colunas são o nosso 'X'\n",
        "# ou seja, os dados de entrada do modelo, e que a última coluna\n",
        "# é o nosso 'y', ou seja, o dado que o modelo deve aprender a predizer\n",
        "print('exemplo dado de entrada (x):\\n', dataset.iloc[4,:4])\n",
        "\n",
        "print('\\nexemplo dado de saída (y)\\n', dataset.iloc[4,4])"
      ],
      "execution_count": 11,
      "outputs": [
        {
          "output_type": "stream",
          "text": [
            "exemplo dado de entrada (x):\n",
            " comp. sépala      5\n",
            "larg. sépala    3.6\n",
            "comp. pétala    1.4\n",
            "larg. pétala    0.2\n",
            "Name: 4, dtype: object\n",
            "\n",
            "exemplo dado de saída (y)\n",
            " Setosa\n"
          ],
          "name": "stdout"
        }
      ]
    },
    {
      "cell_type": "code",
      "metadata": {
        "id": "oSjkCUwBZm-w",
        "colab_type": "code",
        "colab": {
          "base_uri": "https://localhost:8080/",
          "height": 139
        },
        "outputId": "beb98355-843a-45b7-d196-a0027d91f36c"
      },
      "source": [
        "# criando os dados de entrada e saída para treinamento e validação\n",
        "# usando o método 'values' ele retorna um array bidimensional\n",
        "# para serem inseridos na função train_test_split\n",
        "array = dataset.values\n",
        "print(type(array))\n",
        "X = array[:,0:4]\n",
        "y = array[:,4]\n",
        "\n",
        "print('\\ndimensão de X\\n', X.shape)\n",
        "print('\\ndimensão de y\\n', y.shape)"
      ],
      "execution_count": 14,
      "outputs": [
        {
          "output_type": "stream",
          "text": [
            "<class 'numpy.ndarray'>\n",
            "\n",
            "dimensão de X\n",
            " (150, 4)\n",
            "\n",
            "dimensão de y\n",
            " (150,)\n"
          ],
          "name": "stdout"
        }
      ]
    },
    {
      "cell_type": "code",
      "metadata": {
        "id": "mA0CiJnNa-LI",
        "colab_type": "code",
        "colab": {
          "base_uri": "https://localhost:8080/",
          "height": 86
        },
        "outputId": "fdfbfd6b-9845-45cd-86cc-880cdd556058"
      },
      "source": [
        "\n",
        "# utilizando um critério de divisão percentual 20% na função train_test_split\n",
        "X_train, X_test, y_train, y_test = train_test_split(X, y, test_size=0.20, random_state=1)\n",
        "\n",
        "# olhando alguns dados referentes aos conjuntos\n",
        "print(f'\\n dimensão de X_train {X_train.shape} e y_train {y_train.shape}')\n",
        "print(f'\\n dimensão de X_test {X_test.shape} e de y_test {y_test.shape}.')"
      ],
      "execution_count": 39,
      "outputs": [
        {
          "output_type": "stream",
          "text": [
            "\n",
            " dimensão de X_train (120, 4) e y_train (120,)\n",
            "\n",
            " dimensão de X_test (30, 4) e de y_test (30,).\n"
          ],
          "name": "stdout"
        }
      ]
    },
    {
      "cell_type": "markdown",
      "metadata": {
        "id": "j5Cx9oqgcFNE",
        "colab_type": "text"
      },
      "source": [
        "# 3 - Treinamento do Modelo\n",
        "\n",
        "Definindo um modelo e realizando o treinamento\n",
        "\n",
        "<div>\n",
        "<img src=\"https://github.com/rafaelmm82/ufpb-ia-20201/raw/master/02-fundamentos_de_ia/aula_pratica_classificacao_iris/04_treinamento_modelo.jpg\", width=\"640\"/>\n",
        "</div>"
      ]
    },
    {
      "cell_type": "code",
      "metadata": {
        "id": "hiIYLXKgio7r",
        "colab_type": "code",
        "colab": {}
      },
      "source": [
        "# carregando a classe pra criar um modelo do scikit-learn\n",
        "from sklearn.svm import SVC\n",
        "\n",
        "# instanciando um objeto do modelo SVC com parâmetros padrões\n",
        "model = SVC(gamma='auto')"
      ],
      "execution_count": 19,
      "outputs": []
    },
    {
      "cell_type": "code",
      "metadata": {
        "id": "8ek8LvJNeN3N",
        "colab_type": "code",
        "colab": {
          "base_uri": "https://localhost:8080/",
          "height": 86
        },
        "outputId": "e4afc492-2f07-4360-f3e8-37f50710988a"
      },
      "source": [
        "# executa o método de treinamento 'fit', para ajustar os parâmetros\n",
        "# do modelo, a partir de um algoritmo de aprendizagem, em função\n",
        "# dos valores contidos no conjunto de dados\n",
        "model.fit(X_train, y_train)"
      ],
      "execution_count": 20,
      "outputs": [
        {
          "output_type": "execute_result",
          "data": {
            "text/plain": [
              "SVC(C=1.0, break_ties=False, cache_size=200, class_weight=None, coef0=0.0,\n",
              "    decision_function_shape='ovr', degree=3, gamma='auto', kernel='rbf',\n",
              "    max_iter=-1, probability=False, random_state=None, shrinking=True,\n",
              "    tol=0.001, verbose=False)"
            ]
          },
          "metadata": {
            "tags": []
          },
          "execution_count": 20
        }
      ]
    },
    {
      "cell_type": "markdown",
      "metadata": {
        "id": "tDkFOqlHeoOx",
        "colab_type": "text"
      },
      "source": [
        "# 4 - Avaliação do Modelo\n",
        "\n",
        "Utilizando o conjunto de dados de teste define-se uma métrica estatística de\n",
        "avaliação e deduz-se a qualidade do resultado do treinamento\n",
        "\n",
        "<div>\n",
        "<br/>\n",
        "<img src=\"https://github.com/rafaelmm82/ufpb-ia-20201/raw/master/02-fundamentos_de_ia/aula_pratica_classificacao_iris/05_avaliacao_modelo.jpg\", width=\"640\"/>\n",
        "<div/>"
      ]
    },
    {
      "cell_type": "code",
      "metadata": {
        "id": "BDGM-JgPfN5W",
        "colab_type": "code",
        "colab": {}
      },
      "source": [
        ""
      ],
      "execution_count": null,
      "outputs": []
    },
    {
      "cell_type": "code",
      "metadata": {
        "id": "2TgjXLqNlZjz",
        "colab_type": "code",
        "colab": {}
      },
      "source": [
        "# carregando funções da biblioteca scikit-learn que auxiliam no cálculo \n",
        "# das avaliações dos modelos\n",
        "from sklearn.metrics import classification_report, confusion_matrix, accuracy_score\n",
        "\n",
        "# realizando as predições utilizando o conjunto de testes\n",
        "prediction = model.predict(X_test)"
      ],
      "execution_count": 21,
      "outputs": []
    },
    {
      "cell_type": "code",
      "metadata": {
        "id": "qgRflsc6lhaF",
        "colab_type": "code",
        "colab": {
          "base_uri": "https://localhost:8080/",
          "height": 330
        },
        "outputId": "8ab3bce8-6213-459b-a82f-0324c7dfe478"
      },
      "source": [
        "# para efeitos de comparação e devido ao fato do conjunto ser pequeno\n",
        "# podemos observar visualmente o resultdo da predição e o valor real do dataset\n",
        "\n",
        "print('valores preditos\\n', prediction)\n",
        "print('\\nvalores reais do dataset\\n', y_test)\n",
        "print('\\ncomparativo lógico entre ambos\\n', prediction == y_test)"
      ],
      "execution_count": 27,
      "outputs": [
        {
          "output_type": "stream",
          "text": [
            "valores preditos\n",
            " ['Setosa' 'Versicolor' 'Versicolor' 'Setosa' 'Virginica' 'Versicolor'\n",
            " 'Virginica' 'Setosa' 'Setosa' 'Virginica' 'Versicolor' 'Setosa'\n",
            " 'Virginica' 'Versicolor' 'Versicolor' 'Setosa' 'Versicolor' 'Versicolor'\n",
            " 'Setosa' 'Setosa' 'Versicolor' 'Versicolor' 'Virginica' 'Setosa'\n",
            " 'Virginica' 'Versicolor' 'Setosa' 'Setosa' 'Versicolor' 'Virginica']\n",
            "\n",
            "valores reais do dataset\n",
            " ['Setosa' 'Versicolor' 'Versicolor' 'Setosa' 'Virginica' 'Versicolor'\n",
            " 'Virginica' 'Setosa' 'Setosa' 'Virginica' 'Versicolor' 'Setosa'\n",
            " 'Virginica' 'Versicolor' 'Versicolor' 'Setosa' 'Versicolor' 'Versicolor'\n",
            " 'Setosa' 'Setosa' 'Versicolor' 'Versicolor' 'Versicolor' 'Setosa'\n",
            " 'Virginica' 'Versicolor' 'Setosa' 'Setosa' 'Versicolor' 'Virginica']\n",
            "\n",
            "comparativo lógico entre ambos\n",
            " [ True  True  True  True  True  True  True  True  True  True  True  True\n",
            "  True  True  True  True  True  True  True  True  True  True False  True\n",
            "  True  True  True  True  True  True]\n"
          ],
          "name": "stdout"
        }
      ]
    },
    {
      "cell_type": "code",
      "metadata": {
        "id": "avP1jXWSgjPo",
        "colab_type": "code",
        "colab": {
          "base_uri": "https://localhost:8080/",
          "height": 52
        },
        "outputId": "bb5ed145-cba6-4d63-cd06-b331eadc770d"
      },
      "source": [
        "# usando funções e métricas mais robustas para avaliar o desempenho\n",
        "\n",
        "# exibindo a acurácia do modelo para este treinamento\n",
        "print('acurácia\\n', accuracy_score(y_test, prediction))"
      ],
      "execution_count": 30,
      "outputs": [
        {
          "output_type": "stream",
          "text": [
            "acurácia\n",
            " 0.9666666666666667\n"
          ],
          "name": "stdout"
        }
      ]
    },
    {
      "cell_type": "code",
      "metadata": {
        "id": "H7PhyoJFl4ZS",
        "colab_type": "code",
        "colab": {
          "base_uri": "https://localhost:8080/",
          "height": 86
        },
        "outputId": "bb289948-9de0-457d-f363-83b28acaf891"
      },
      "source": [
        "# exibindo a matrix confusão VP, FP, VN FN\n",
        "print('matrix confusão\\n', confusion_matrix(y_test, prediction))"
      ],
      "execution_count": 32,
      "outputs": [
        {
          "output_type": "stream",
          "text": [
            "matrix confusão\n",
            " [[11  0  0]\n",
            " [ 0 12  1]\n",
            " [ 0  0  6]]\n"
          ],
          "name": "stdout"
        }
      ]
    },
    {
      "cell_type": "code",
      "metadata": {
        "id": "f45IKwWvmn6y",
        "colab_type": "code",
        "colab": {
          "base_uri": "https://localhost:8080/",
          "height": 208
        },
        "outputId": "39325aa0-e790-4a23-bcdf-240a83040c71"
      },
      "source": [
        "# exibindo um relatório mais completo com os índices:\n",
        "# precisão, recall, f1-score e support\n",
        "print('relatório completo\\n', classification_report(y_test, prediction))"
      ],
      "execution_count": 33,
      "outputs": [
        {
          "output_type": "stream",
          "text": [
            "relatório completo\n",
            "               precision    recall  f1-score   support\n",
            "\n",
            "      Setosa       1.00      1.00      1.00        11\n",
            "  Versicolor       1.00      0.92      0.96        13\n",
            "   Virginica       0.86      1.00      0.92         6\n",
            "\n",
            "    accuracy                           0.97        30\n",
            "   macro avg       0.95      0.97      0.96        30\n",
            "weighted avg       0.97      0.97      0.97        30\n",
            "\n"
          ],
          "name": "stdout"
        }
      ]
    },
    {
      "cell_type": "markdown",
      "metadata": {
        "id": "Kl9e3XszhV48",
        "colab_type": "text"
      },
      "source": [
        "## Qual conclusão podemos tirar do processo de treinamento?\n",
        "\n",
        "E se, por exemplo, tivéssemos usado outros valores para divisão dos dados?"
      ]
    },
    {
      "cell_type": "code",
      "metadata": {
        "id": "tL_d5GVBhmdU",
        "colab_type": "code",
        "colab": {
          "base_uri": "https://localhost:8080/",
          "height": 434
        },
        "outputId": "2559a7b6-3667-42f2-9a27-0b8b79e04097"
      },
      "source": [
        "# para avaliar o que aconteceria se tivéssemos utilizado outra propoção de dados\n",
        "# para treino e validação podemos refazer parte do procedimento\n",
        "X_train, X_test, y_train, y_test = train_test_split(X, y, test_size=0.95, random_state=1)\n",
        "print(f'\\ndimensão de X_train {X_train.shape} e y_train {y_train.shape}')\n",
        "print(f'\\ndimensão de X_test {X_test.shape} e de y_test {y_test.shape}.')\n",
        "\n",
        "# Cria novamente o modelo, treina, prediz e avalia\n",
        "model_2 = SVC(gamma='auto')\n",
        "model_2.fit(X_train, y_train)\n",
        "prediction = model_2.predict(X_test)\n",
        "print('\\nacurácia\\n', accuracy_score(y_test, prediction))\n",
        "print('\\nmatrix confusão\\n', confusion_matrix(y_test, prediction))\n",
        "print('\\nrelatório completo\\n', classification_report(y_test, prediction))"
      ],
      "execution_count": 42,
      "outputs": [
        {
          "output_type": "stream",
          "text": [
            "\n",
            "dimensão de X_train (7, 4) e y_train (7,)\n",
            "\n",
            "dimensão de X_test (143, 4) e de y_test (143,).\n",
            "\n",
            "acurácia\n",
            " 0.8321678321678322\n",
            "\n",
            "matrix confusão\n",
            " [[49  0  0]\n",
            " [ 0 25 23]\n",
            " [ 0  1 45]]\n",
            "\n",
            "relatório completo\n",
            "               precision    recall  f1-score   support\n",
            "\n",
            "      Setosa       1.00      1.00      1.00        49\n",
            "  Versicolor       0.96      0.52      0.68        48\n",
            "   Virginica       0.66      0.98      0.79        46\n",
            "\n",
            "    accuracy                           0.83       143\n",
            "   macro avg       0.87      0.83      0.82       143\n",
            "weighted avg       0.88      0.83      0.82       143\n",
            "\n"
          ],
          "name": "stdout"
        }
      ]
    }
  ]
}