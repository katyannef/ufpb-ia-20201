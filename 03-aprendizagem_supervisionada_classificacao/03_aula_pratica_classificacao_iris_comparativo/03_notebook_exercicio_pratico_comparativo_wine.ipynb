{
  "nbformat": 4,
  "nbformat_minor": 0,
  "metadata": {
    "colab": {
      "name": "03-notebook-exercicio_pratico_comparativo_wine.ipynb",
      "provenance": [],
      "collapsed_sections": []
    },
    "kernelspec": {
      "name": "python3",
      "display_name": "Python 3"
    }
  },
  "cells": [
    {
      "cell_type": "markdown",
      "metadata": {
        "id": "U3QHK4xpMDa3"
      },
      "source": [
        "\n",
        "# Exercício Prático - Comparativo com Vinhos\n",
        "\n",
        "Classificação de Qualidade de Vinhos do tipo 'Tinto' (Arquivo fornecido junto com notebook - 'winequality-red.csv')\n",
        "\n",
        "Utilizar as técnicas de Cross-Validation e StratifiedKFold no problema de classificação dos Vinhos"
      ]
    },
    {
      "cell_type": "markdown",
      "metadata": {
        "id": "nsN9Z_Q2JzTs"
      },
      "source": [
        "# 1 - Extração dos Atributos\n",
        "\n"
      ]
    },
    {
      "cell_type": "code",
      "metadata": {
        "id": "wo990FnoGOHP"
      },
      "source": [
        "# Seus códigos para a etapa 1 deverão ser criados aqui:\n"
      ],
      "execution_count": null,
      "outputs": []
    },
    {
      "cell_type": "markdown",
      "metadata": {
        "id": "eC2-SnCpLyVs"
      },
      "source": [
        "# 2 - Divisão dos Dados com Cross-Validation\n"
      ]
    },
    {
      "cell_type": "code",
      "metadata": {
        "id": "9U1C4B_FMVOi"
      },
      "source": [
        "# Seus códigos para a etapa 2 deverão ser criados aqui:\n"
      ],
      "execution_count": null,
      "outputs": []
    },
    {
      "cell_type": "markdown",
      "metadata": {
        "id": "sgDVCmPiM3Lv"
      },
      "source": [
        "# 3 - Comparativo entre Modelos Com Cross-Validation e StratifiedKFold\n"
      ]
    },
    {
      "cell_type": "code",
      "metadata": {
        "id": "zMglNvZDNScZ"
      },
      "source": [
        "# Seus códigos para a etapa 3 deverão ser criados aqui: \n"
      ],
      "execution_count": null,
      "outputs": []
    }
  ]
}