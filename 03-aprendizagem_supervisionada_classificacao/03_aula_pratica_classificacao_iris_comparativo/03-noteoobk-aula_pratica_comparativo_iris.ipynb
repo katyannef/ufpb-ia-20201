{
  "nbformat": 4,
  "nbformat_minor": 0,
  "metadata": {
    "colab": {
      "name": "Aula Prática 03 - Classificação Comparativo",
      "provenance": [],
      "collapsed_sections": []
    },
    "kernelspec": {
      "name": "python3",
      "display_name": "Python 3"
    }
  },
  "cells": [
    {
      "cell_type": "markdown",
      "metadata": {
        "id": "_i-DDRSeQbw2"
      },
      "source": [
        "# Exemplo Prático: Aprendizagem Supervisionada Classificação PARTE 1\n",
        "\n",
        "## Classificação de Flores Íris - Comparativo\n",
        "\n",
        "O objetivo nessa prática é apresentar um passo adiante considerando a primeira prática e mostrar duas funções muito importantes para o trainamento em aprendizagem de máquina. Elas são o 'cross-validation' e o 'comparativo de modelos'."
      ]
    },
    {
      "cell_type": "markdown",
      "metadata": {
        "id": "_LSmGBe_7X7t"
      },
      "source": [
        "<div>\n",
        "<img src=\"https://raw.githubusercontent.com/rafaelmm82/ufpb-ia-20201/master/03-aprendizagem_supervisionada_classificacao/03_aula_pratica_classificacao_iris_comparativo/01_cross_validation.png\", width=\"640\"/>\n",
        "<div/>"
      ]
    },
    {
      "cell_type": "markdown",
      "metadata": {
        "id": "LYvnD2lW_Ixh"
      },
      "source": [
        "# 1.1) Cross-validation\n",
        "\n",
        "Carregando e entendendo o conjunto de dados, criando um modelo e aplicando o cross-validation para checar o desempenho em cada sub-conjunto de dados.\n",
        "\n"
      ]
    },
    {
      "cell_type": "code",
      "metadata": {
        "id": "WZmXzDAMQUzi"
      },
      "source": [
        "# Carregar e entender os dados\n",
        "\n",
        "# biblioteca para carregar e realizar operações tabulares\n",
        "import pandas as pd\n",
        "\n",
        "# biblioteca para plotar gráficos\n",
        "import matplotlib.pyplot as plt\n",
        "\n",
        "# dataset, arquivo com as amostras das medições das flores\n",
        "arquivo = 'https://raw.githubusercontent.com/rafaelmm82/ufpb-ia-20201/master/02-fundamentos_de_ia/02_aula_pratica_classificacao_iris/iris.csv'\n",
        "\n",
        "# carregando o conteúdo do arquivo em um objeto pandas.DataFrame \n",
        "# a partir do método de carregamento de arquivo read_csv\n",
        "# especificando que a primeira linha contém os nomes do cabeçalho\n",
        "dataset = pd.read_csv(arquivo, header=0)\n",
        "\n",
        "# exibindo a dimensão dos dados carregados (linhas, colunas)\n",
        "print(dataset.shape)"
      ],
      "execution_count": null,
      "outputs": []
    },
    {
      "cell_type": "code",
      "metadata": {
        "id": "roxtBJYxVSLz"
      },
      "source": [
        "# para saber a quantidade dados por classe\n",
        "print(dataset.groupby('classe').size())"
      ],
      "execution_count": null,
      "outputs": []
    },
    {
      "cell_type": "code",
      "metadata": {
        "id": "S6GQqTYuU2t1"
      },
      "source": [
        "# Seprando os dados e Aplicando Cross-Validation\n",
        "from sklearn.model_selection import train_test_split\n",
        "from sklearn.model_selection import cross_val_score\n",
        "from sklearn.linear_model import LogisticRegression\n",
        "\n",
        "array = dataset.values\n",
        "X = array[:,0:4]\n",
        "y = array[:,4]\n",
        "\n",
        "# separação treino e validação\n",
        "X_train, X_validation, Y_train, Y_validation = train_test_split(X, y, test_size=0.20, random_state=1, shuffle=True)\n",
        "\n",
        "# criando o modelo e aplicando o cross_validation\n",
        "model = LogisticRegression(solver='liblinear', multi_class='ovr')\n",
        "cv_results = cross_val_score(model, X_train, Y_train, cv=5, scoring='accuracy')\n",
        "print('cv_results ', cv_results)"
      ],
      "execution_count": null,
      "outputs": []
    },
    {
      "cell_type": "code",
      "metadata": {
        "id": "9pa0g0WXQzp8"
      },
      "source": [
        "# exibindo os resultados individualmente\n",
        "print(f'{len(cv_results)} treinamentos realizados')\n",
        "\n",
        "# print por resultado\n",
        "for valor in cv_results:\n",
        "  print(f'resultado treino: {valor}')"
      ],
      "execution_count": null,
      "outputs": []
    },
    {
      "cell_type": "code",
      "metadata": {
        "id": "A2zASZz-R1se"
      },
      "source": [
        "# imprimindo a média e desvio padrão\n",
        "print(f'LR, média{cv_results.mean()} e desvio padrão {cv_results.std()}')"
      ],
      "execution_count": null,
      "outputs": []
    },
    {
      "cell_type": "markdown",
      "metadata": {
        "id": "HF9KF7ecTKjP"
      },
      "source": [
        "# 1.2) Garantindo a equivalência entre as classes:\n",
        "\n",
        "Usando o Stratified K-Fold (Cross-validation com extratifcação por classe)\n"
      ]
    },
    {
      "cell_type": "code",
      "metadata": {
        "id": "ZSIC_rNhTR54"
      },
      "source": [
        "# Seprando os dados e Aplicando Cross-Validation\n",
        "from sklearn.model_selection import train_test_split\n",
        "from sklearn.model_selection import cross_val_score\n",
        "from sklearn.model_selection import StratifiedKFold  # <-- aqui a diferença\n",
        "from sklearn.linear_model import LogisticRegression\n",
        "\n",
        "array = dataset.values\n",
        "X = array[:,0:4]\n",
        "y = array[:,4]\n",
        "\n",
        "# separação treino e validação\n",
        "X_train, X_validation, Y_train, Y_validation = train_test_split(X, y, test_size=0.20, random_state=1, shuffle=True)\n",
        "\n",
        "# cria o stratificado\n",
        "kfold = StratifiedKFold(n_splits=5, random_state=1, shuffle=True)  # <-- aqui a diferença\n",
        "\n",
        "# criando o modelo e aplicando o cross_validation\n",
        "model = LogisticRegression(solver='liblinear', multi_class='ovr')\n",
        "cv_results = cross_val_score(model, X_train, Y_train, cv=kfold, scoring='accuracy')  # <-- aqui a diferença\n",
        "print('cv_results ', cv_results)\n",
        "\n",
        "# exibindo os resultados individualmente\n",
        "print(f'{len(cv_results)} treinamentos realizados')\n",
        "\n",
        "# print por resultado\n",
        "for valor in cv_results:\n",
        "  print(f'resultado treino: {valor}')\n",
        "\n",
        "# imprimindo a média e desvio padrão\n",
        "print(f'LR, média{cv_results.mean()} e desvio padrão {cv_results.std()}')"
      ],
      "execution_count": null,
      "outputs": []
    },
    {
      "cell_type": "markdown",
      "metadata": {
        "id": "mNtAUereYFJ4"
      },
      "source": [
        "# 2) Comparando Resultados\n",
        "\n",
        "Refazendo o procedimento, porém aplicando diferentes modelos para comparar seus resultados individuais.\n",
        "\n"
      ]
    },
    {
      "cell_type": "code",
      "metadata": {
        "id": "ahMjIO3UULdF"
      },
      "source": [
        "# carregando todos os modelos e funções necessárias\n",
        "from sklearn.model_selection import train_test_split\n",
        "from sklearn.model_selection import StratifiedKFold\n",
        "from sklearn.model_selection import cross_val_score\n",
        "\n",
        "# carregando os modelos\n",
        "from sklearn.linear_model import LogisticRegression\n",
        "from sklearn.tree import DecisionTreeClassifier\n",
        "from sklearn.neighbors import KNeighborsClassifier\n",
        "from sklearn.discriminant_analysis import LinearDiscriminantAnalysis\n",
        "from sklearn.naive_bayes import GaussianNB\n",
        "from sklearn.svm import SVC\n"
      ],
      "execution_count": 18,
      "outputs": []
    },
    {
      "cell_type": "code",
      "metadata": {
        "id": "C2aHMAn9fwjD"
      },
      "source": [
        "# dividindo os conjuntos aleatoriamente\n",
        "X_train, X_validation, Y_train, Y_validation = train_test_split(X, y, test_size=0.20, random_state=1, shuffle=True)\n",
        "\n",
        "# criando os modelos e adicionando num vetor de tuplas pra facilitar o código\n",
        "models = []\n",
        "models.append(('LR', LogisticRegression(solver='liblinear', multi_class='ovr')))\n",
        "models.append(('KNN', KNeighborsClassifier()))\n",
        "models.append(('SVM', SVC(gamma='auto')))\n",
        "models.append(('CART', DecisionTreeClassifier()))\n",
        "models.append(('LDA', LinearDiscriminantAnalysis()))\n",
        "models.append(('NB', GaussianNB()))\n",
        "\n",
        "# avaliando cada um dos modelos utilizando cross-validation com stratified\n",
        "results = []\n",
        "names = []\n",
        "\n",
        "for name, model in models:\n",
        "\tkfold = StratifiedKFold(n_splits=5, random_state=1, shuffle=True)\n",
        "\tcv_results = cross_val_score(model, X_train, Y_train, cv=kfold, scoring='accuracy')\n",
        "\tresults.append(cv_results)\n",
        "\tnames.append(name)\n",
        "\tprint('modelo %s: média %f desvio(%f)' % (name, cv_results.mean(), cv_results.std()))"
      ],
      "execution_count": null,
      "outputs": []
    },
    {
      "cell_type": "code",
      "metadata": {
        "id": "0rP27NROU2oj"
      },
      "source": [
        "# Compare Algorithms\n",
        "plt.boxplot(results, labels=names)\n",
        "plt.title('Comparação dos Algoritmos')\n",
        "plt.show()"
      ],
      "execution_count": null,
      "outputs": []
    },
    {
      "cell_type": "code",
      "metadata": {
        "id": "dJYhgHz3VFnx"
      },
      "source": [
        "# exibindo os resultados gerais\n",
        "for result in results:\n",
        "  print(result)"
      ],
      "execution_count": null,
      "outputs": []
    }
  ]
}