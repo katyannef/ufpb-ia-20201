{
  "nbformat": 4,
  "nbformat_minor": 0,
  "metadata": {
    "colab": {
      "name": "Prática_de_Código_Fundamentos_de_IA",
      "provenance": [],
      "collapsed_sections": []
    },
    "kernelspec": {
      "name": "python3",
      "display_name": "Python 3"
    }
  },
  "cells": [
    {
      "cell_type": "markdown",
      "metadata": {
        "id": "U3QHK4xpMDa3",
        "colab_type": "text"
      },
      "source": [
        "# IA - 2020.1 (Prof. Rafael Magalhães)\n",
        "## Turmas LCC e SI\n",
        "\n",
        "### Exercício Prático - Fundamentos de IA\n",
        "\n",
        "Classificação de Qualidade de Vinhos do tipo 'Tinto' (Arquivo fornecido junto com notebook - 'winequality-red.csv')"
      ]
    },
    {
      "cell_type": "markdown",
      "metadata": {
        "id": "x-KOAJouI2XV",
        "colab_type": "text"
      },
      "source": [
        "Olá Pessoal,\n",
        "\n",
        "Ests prática de código tem três principais objetivos:\n",
        "\n",
        "- Recapitular alguns elementos da linguem Python (sintaxe, estrutura, etc.)\n",
        "- Conhecer algumas das bibliotecas mais utilizadas na área de IA e ML em Python\n",
        "- Captar o essencial do workflow (conjunto de etapas) para criação de 'modelos' de classificadores inteligentes.\n",
        "\n",
        "Para tanto, siga as instruções e conclua as etapas a seguir. Você é livre para buscar ajuda nas página oficiais de cada biblioteca se desejar.\n",
        "\n",
        "As Etapas que deverá realizar são:\n",
        "\n",
        "- Extração de Atributos\n",
        "- Divisão dos Dados\n",
        "- Treinamento do(s) Modelo(s)\n",
        "- Avaliação do(s) Modelo(s)"
      ]
    },
    {
      "cell_type": "markdown",
      "metadata": {
        "id": "nsN9Z_Q2JzTs",
        "colab_type": "text"
      },
      "source": [
        "# 1 - Extração dos Atributos\n",
        "\n",
        "Você deverá:\n",
        "\n",
        "- 1.1 - carregar os dados de classificação de Vinhos Vermelhos utilizando o Pandas;\n",
        "- 1.2 - Avaliar minimamente algumas informações estatísticas do conjunto de dados;\n",
        "- 1.3 - Criar algumas visualizações dos dados, e, por fim;\n",
        "- 1.4 - Determinar o conjunto de dados (atributos) que serão utilizados para compor o 'dataset' para criar o modelo.\n"
      ]
    },
    {
      "cell_type": "code",
      "metadata": {
        "id": "wo990FnoGOHP",
        "colab_type": "code",
        "colab": {}
      },
      "source": [
        "# Seus códigos para a etapa 1 deverão ser criados aqui:\n",
        "\n",
        "# dica: lembre-se de pesquisar os argumentos do método read_csv do pandas,\n",
        "# especialmente o 'names' e o 'delimiter'\n"
      ],
      "execution_count": null,
      "outputs": []
    },
    {
      "cell_type": "markdown",
      "metadata": {
        "id": "eC2-SnCpLyVs",
        "colab_type": "text"
      },
      "source": [
        "# 2 - Divisão dos Dados\n",
        "\n",
        "Usando a técina que você desejar, defina um critério para divisão dos dados e crie quatro variáveis:\n",
        "```\n",
        "X_train, X_test, y_train, y_test\n",
        "```\n",
        "cada um contendo os dados referentes às entradas e saídas de treinamento e etradas e saídas do dados de testes."
      ]
    },
    {
      "cell_type": "code",
      "metadata": {
        "id": "9U1C4B_FMVOi",
        "colab_type": "code",
        "colab": {}
      },
      "source": [
        "# Seus códigos para a etapa 2 deverão ser criados aqui:\n"
      ],
      "execution_count": null,
      "outputs": []
    },
    {
      "cell_type": "markdown",
      "metadata": {
        "id": "sgDVCmPiM3Lv",
        "colab_type": "text"
      },
      "source": [
        "# 3 - Treinamento do Modelo\n",
        "\n",
        "Na etapa de treinamento caberá a você escolher um modelo disponível na biblioteca scikit-learn (sklearn), dentre os vários. Instanciar um objeto, utilizar os dados de treinamento para ajustar o modelo (fit, treinar) e realizar alguns exemplos de predição."
      ]
    },
    {
      "cell_type": "code",
      "metadata": {
        "id": "zMglNvZDNScZ",
        "colab_type": "code",
        "colab": {}
      },
      "source": [
        "# Seus códigos para a etapa 3 deverão ser criados aqui: \n",
        "\n",
        "# Dica: para evitar resultados inesperados, toda vez que alterar o conjunto\n",
        "# de dados é boa prática recriar o modelo.\n"
      ],
      "execution_count": null,
      "outputs": []
    },
    {
      "cell_type": "markdown",
      "metadata": {
        "id": "yp1Jy310NUn-",
        "colab_type": "text"
      },
      "source": [
        "# 4 - Avaliação do Modelo\n",
        "\n",
        "Na quarta e última etapa você deverá utilizar alguma técnica de checagem da qualidade do resultado obtido, por exemplo o percentual de acertos, ou a matrix de validação, precisão, acurácia ou qualquer outra da sua escolha."
      ]
    },
    {
      "cell_type": "code",
      "metadata": {
        "id": "C7BUYPfNPqZD",
        "colab_type": "code",
        "colab": {}
      },
      "source": [
        "# Seus códigos para a etapa 4 deverão ser criados aqui:\n"
      ],
      "execution_count": null,
      "outputs": []
    },
    {
      "cell_type": "markdown",
      "metadata": {
        "id": "WdcfqtnBPuHD",
        "colab_type": "text"
      },
      "source": [
        "Ao término da atividade você deverá enviar seu código na plataforma da turma para concluir a atividade de ensino prática."
      ]
    }
  ]
}